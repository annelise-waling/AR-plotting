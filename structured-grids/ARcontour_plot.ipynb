{
 "cells": [
  {
   "cell_type": "code",
   "execution_count": null,
   "metadata": {},
   "outputs": [],
   "source": [
    "# @author: Annelise N Waling (annelise.waling@unh.edu)\n",
    "# Script to plot atmospheric rivers from CESM h.3 files run through TempestExtremes \"DetectBlobs\"\n",
    "# Could use work in fixing up the read-in process"
   ]
  },
  {
   "cell_type": "code",
   "execution_count": 1,
   "metadata": {},
   "outputs": [],
   "source": [
    "import numpy as np\n",
    "import Ngl\n",
    "import Nio\n",
    "import sys\n",
    "import os\n",
    "import itertools\n",
    "import pandas as pd"
   ]
  },
  {
   "cell_type": "code",
   "execution_count": 2,
   "metadata": {},
   "outputs": [],
   "source": [
    "start_path = str(Path("CESM-output"/) #FV\n",
    "path1 = 'start_path/cam6_2_022.se_FHIST_f09_f09_mg17_1800pes_200507_mg3-Nx5yrs.cam.h3.1979-01-01-00000.ARtag.nc' #FV\n",
    "path2 = 'start_path/cam6_2_022.se_FHIST_f19_f19_mg17_900pes_200506_mg3-Nx5yrs.cam.h3.1979-01-01-00000.ARtag.nc'#FV\n",
    "path3 = 'start_path/cam6_2_022.se_FHIST_ne0np4.ARCTIC.ne30x4_mt12_7680pes_200507_mg3-Nx2yrs.cam.h3.1979-01-01-00000.ARtag.nc' #VR\n",
    "path4 = 'start_path/cam6_2_022.se_FHIST_ne0np4.ARCTICGRIS.ne30x8_mt12_7680pes_200510_mg3-Nx1yrs.cam.h3.1979-01-01-00000.ARtag.nc' #VR\n",
    "path5 = 'start_path/cam6_2_022.se_FHIST_ne30pg2_ne30pg2_mg17_1800pes_200507_mg3-Nx5yrs.cam.h3.1979-01-01-00000.ARtag.nc'#SE\n",
    "path6 = 'start_path/cam6_2_022.se_FHIST_ne30pg3_ne30pg3_mg17_1800pes_200507_mg3-Nx5yrs.cam.h3.1979-01-01-00000.ARtag.nc' #SE\n",
    "\n",
    "paths = [path1,path2,path3,path4,path5,path6] # paths to each file\n",
    "names = [\"f19_f09_contour\",\"f19_f19_contour\",\"f19_ARCTIC_contour\",\"f19_ARCTICGRIS_contour\",\"f19_ne30pg2_contour\",\"f19_ne30pg3_contour\"] # what each .ps file will be named (unique per each file)"
   ]
  },
  {
   "cell_type": "code",
   "execution_count": 4,
   "metadata": {},
   "outputs": [],
   "source": [
    "# Read in netcdf4 file\n",
    "for i in range(len(paths)):\n",
    "    cdf_file = Nio.open_file(paths[i],\"r\") # read only netcdf4\n",
    "\n",
    "    # Create variables from the netcdf4 file\n",
    "    artag_lon = cdf_file.variables['lon'][:]\n",
    "    artag_lat = cdf_file.variables['lat'][:]\n",
    "    time = cdf_file.variables['time']\n",
    "    artag = cdf_file.variables['AR_binary_tag'][:]\n",
    "\n",
    "    artag_nlon =  len(artag_lon)\n",
    "    artag_nlat =  len(artag_lat)\n",
    "\n",
    "    wks_type = 'ps' # Specify output type, in this case postscript\n",
    "    wks = Ngl.open_wks(wks_type,names[i])  # Open a workstation + name the output \n",
    "    resources = Ngl.Resources() # Create a Resources variable\n",
    "    artag2D = artag[0,:,:] # take time = 0 for each file (1-1-1979 00:00), can change this to take whatever day is wanted\n",
    "\n",
    "    resources.sfXCStartV = float(min(artag_lon))\n",
    "    resources.sfXCEndV   = float(max(artag_lon))\n",
    "    resources.sfYCStartV = float(min(artag_lat))\n",
    "    resources.sfYCEndV   = float(max(artag_lat))\n",
    "    \n",
    "    resources.cnLineColors = \"red\" # Allow different colors of contours\n",
    "\n",
    "    plot = Ngl.contour_map(wks,artag2D,resources)       # Draw an XY plot."
   ]
  },
  {
   "cell_type": "code",
   "execution_count": 5,
   "metadata": {},
   "outputs": [],
   "source": [
    "Ngl.end()"
   ]
  }
 ],
 "metadata": {
  "kernelspec": {
   "display_name": "Python 3",
   "language": "python",
   "name": "python3"
  },
  "language_info": {
   "codemirror_mode": {
    "name": "ipython",
    "version": 3
   },
   "file_extension": ".py",
   "mimetype": "text/x-python",
   "name": "python",
   "nbconvert_exporter": "python",
   "pygments_lexer": "ipython3",
   "version": "3.7.9"
  }
 },
 "nbformat": 4,
 "nbformat_minor": 4
}
